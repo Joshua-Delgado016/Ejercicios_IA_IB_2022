{
  "nbformat": 4,
  "nbformat_minor": 0,
  "metadata": {
    "colab": {
      "provenance": [],
      "collapsed_sections": []
    },
    "kernelspec": {
      "name": "python3",
      "display_name": "Python 3"
    },
    "language_info": {
      "name": "python"
    }
  },
  "cells": [
    {
      "cell_type": "markdown",
      "source": [
        "Exercise Number 1"
      ],
      "metadata": {
        "id": "vbddYdCwFNjK"
      }
    },
    {
      "cell_type": "code",
      "execution_count": 2,
      "metadata": {
        "colab": {
          "base_uri": "https://localhost:8080/"
        },
        "id": "XZgd63FhE53Z",
        "outputId": "ce8ca7d8-63ba-4da5-c2cb-e36b023a42ab"
      },
      "outputs": [
        {
          "output_type": "stream",
          "name": "stdout",
          "text": [
            "What is your name? Ana\n",
            "That name is not valid, please enter another one\n"
          ]
        }
      ],
      "source": [
        "\"\"\"\n",
        "A2 Python Exercises\n",
        "Name: Josué Abel Delgado Avila\n",
        "ID: 1917024\n",
        "Class: Artificial Intelligence JuN4\n",
        "\"\"\"\n",
        "name=input('What is your name? ')\n",
        "if name in ('John', 'Ana', 'Peter'):\n",
        "  print ('That name is not valid, please enter another one')\n",
        "else:\n",
        "  print ('Hello!! ' +name +'')"
      ]
    },
    {
      "cell_type": "markdown",
      "source": [
        "Exercise Number 2"
      ],
      "metadata": {
        "id": "sfldnFSzF7wk"
      }
    },
    {
      "cell_type": "code",
      "source": [
        "F1Teams = ['Ferrari','RedBull','Mercedes','McLaren']\n",
        "def invert_F1Teams(F1Teams):\n",
        "  if F1Teams == [] :\n",
        "    inverse = F1Teams\n",
        "  else:\n",
        "    inverse = [F1Teams[-1]] + invert_F1Teams(F1Teams[:-1])\n",
        "  return inverse\n",
        "print(invert_F1Teams(F1Teams)) "
      ],
      "metadata": {
        "colab": {
          "base_uri": "https://localhost:8080/"
        },
        "id": "PfLo_CSwF8G0",
        "outputId": "4d4c327c-4117-4544-a478-3d3615d56eaa"
      },
      "execution_count": 3,
      "outputs": [
        {
          "output_type": "stream",
          "name": "stdout",
          "text": [
            "['McLaren', 'Mercedes', 'RedBull', 'Ferrari']\n"
          ]
        }
      ]
    },
    {
      "cell_type": "markdown",
      "source": [
        "Exercise Number 3"
      ],
      "metadata": {
        "id": "Xg5opuZTGJJ5"
      }
    },
    {
      "cell_type": "code",
      "source": [
        "def print_in_a_frame(*square):\n",
        "  size = max(len(word) for word in square)\n",
        "  print('*' * (size+3))\n",
        "  for word in square:\n",
        "    print('* {:<{}} *'.format(word, size))\n",
        "  print('*' *(size+2))\n",
        "print_in_a_frame('I am Josué', 'I am a Ferrari fan', 'therefore', 'I have depression')"
      ],
      "metadata": {
        "colab": {
          "base_uri": "https://localhost:8080/"
        },
        "id": "a2_HthshGKvA",
        "outputId": "1bd64443-1ed6-43f7-8c92-7c4aa84a7af2"
      },
      "execution_count": 5,
      "outputs": [
        {
          "output_type": "stream",
          "name": "stdout",
          "text": [
            "*********************\n",
            "* I am Josué         *\n",
            "* I am a Ferrari fan *\n",
            "* therefore          *\n",
            "* I have depression  *\n",
            "********************\n"
          ]
        }
      ]
    }
  ]
}